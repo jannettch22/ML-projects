{
 "cells": [
  {
   "cell_type": "markdown",
   "metadata": {},
   "source": [
    "#  CNN training"
   ]
  },
  {
   "cell_type": "markdown",
   "metadata": {},
   "source": [
    "<img src='cnn.PNG'>"
   ]
  },
  {
   "cell_type": "code",
   "execution_count": 12,
   "metadata": {},
   "outputs": [],
   "source": [
    "import numpy as np\n",
    "data=np.load('data.npy')\n",
    "target=np.load('target.npy')"
   ]
  },
  {
   "cell_type": "code",
   "execution_count": 6,
   "metadata": {},
   "outputs": [],
   "source": [
    "from keras.models import Sequential\n",
    "from keras.layers import Dense,Activation,Flatten,Dropout\n",
    "from keras.layers import Conv2D,MaxPooling2D\n",
    "from keras.callbacks import ModelCheckpoint"
   ]
  },
  {
   "cell_type": "code",
   "execution_count": 7,
   "metadata": {},
   "outputs": [
    {
     "name": "stdout",
     "output_type": "stream",
     "text": [
      "WARNING:tensorflow:From C:\\Users\\Jannett Chabbeh\\.conda\\envs\\jannett\\lib\\site-packages\\keras\\backend\\tensorflow_backend.py:4070: The name tf.nn.max_pool is deprecated. Please use tf.nn.max_pool2d instead.\n",
      "\n"
     ]
    }
   ],
   "source": [
    "model= Sequential()\n",
    "\n",
    "# First CNN layer\n",
    "model.add(Conv2D(200,(3,3),input_shape=data.shape[1:]))\n",
    "model.add(Activation('relu'))\n",
    "model.add(MaxPooling2D(pool_size=(2,2)))\n",
    "model.output_shape\n",
    "\n",
    "# Second CNN layer\n",
    "model.add(Conv2D(100,(3,3)))\n",
    "model.add(Activation('relu'))\n",
    "model.add(MaxPooling2D(pool_size=(2,2)))\n",
    "model.output_shape\n",
    "\n",
    "# Flatten layer\n",
    "model.add(Flatten())\n",
    "model.add(Dropout(0.5))\n",
    "model.output_shape\n",
    "\n",
    "#Dense layer of 64 neurons\n",
    "model.add(Dense(50,activation='relu'))\n",
    "model.output_shape\n",
    "\n",
    "# Final layer\n",
    "model.add(Dense(2,activation='softmax'))\n",
    "model.output_shape\n",
    "\n",
    "model.compile(loss='categorical_crossentropy',optimizer='adam',metrics=['accuracy'])"
   ]
  },
  {
   "cell_type": "code",
   "execution_count": 8,
   "metadata": {},
   "outputs": [
    {
     "name": "stdout",
     "output_type": "stream",
     "text": [
      "Model: \"sequential_3\"\n",
      "_________________________________________________________________\n",
      "Layer (type)                 Output Shape              Param #   \n",
      "=================================================================\n",
      "conv2d_3 (Conv2D)            (None, 98, 98, 200)       2000      \n",
      "_________________________________________________________________\n",
      "activation_1 (Activation)    (None, 98, 98, 200)       0         \n",
      "_________________________________________________________________\n",
      "max_pooling2d_1 (MaxPooling2 (None, 49, 49, 200)       0         \n",
      "_________________________________________________________________\n",
      "conv2d_4 (Conv2D)            (None, 47, 47, 100)       180100    \n",
      "_________________________________________________________________\n",
      "activation_2 (Activation)    (None, 47, 47, 100)       0         \n",
      "_________________________________________________________________\n",
      "max_pooling2d_2 (MaxPooling2 (None, 23, 23, 100)       0         \n",
      "_________________________________________________________________\n",
      "flatten_1 (Flatten)          (None, 52900)             0         \n",
      "_________________________________________________________________\n",
      "dropout_1 (Dropout)          (None, 52900)             0         \n",
      "_________________________________________________________________\n",
      "dense_1 (Dense)              (None, 50)                2645050   \n",
      "_________________________________________________________________\n",
      "dense_2 (Dense)              (None, 2)                 102       \n",
      "=================================================================\n",
      "Total params: 2,827,252\n",
      "Trainable params: 2,827,252\n",
      "Non-trainable params: 0\n",
      "_________________________________________________________________\n"
     ]
    }
   ],
   "source": [
    "model.summary()"
   ]
  },
  {
   "cell_type": "code",
   "execution_count": 14,
   "metadata": {},
   "outputs": [],
   "source": [
    "from sklearn.model_selection import train_test_split\n",
    "X_train, x_test, Y_train, y_test= train_test_split(data,target,test_size=0.1)"
   ]
  },
  {
   "cell_type": "code",
   "execution_count": 15,
   "metadata": {},
   "outputs": [
    {
     "data": {
      "text/plain": [
       "(1238, 100, 100, 1)"
      ]
     },
     "execution_count": 15,
     "metadata": {},
     "output_type": "execute_result"
    }
   ],
   "source": [
    "X_train.shape"
   ]
  },
  {
   "cell_type": "code",
   "execution_count": 17,
   "metadata": {},
   "outputs": [
    {
     "name": "stdout",
     "output_type": "stream",
     "text": [
      "Train on 1114 samples, validate on 124 samples\n",
      "Epoch 1/20\n",
      "1114/1114 [==============================] - 69s 62ms/step - loss: 0.6540 - accuracy: 0.6122 - val_loss: 0.5929 - val_accuracy: 0.7177\n",
      "Epoch 2/20\n",
      "1114/1114 [==============================] - 73s 65ms/step - loss: 0.5042 - accuracy: 0.7567 - val_loss: 0.3512 - val_accuracy: 0.8790\n",
      "Epoch 3/20\n",
      "1114/1114 [==============================] - 80s 71ms/step - loss: 0.3137 - accuracy: 0.8600 - val_loss: 0.2560 - val_accuracy: 0.8790\n",
      "Epoch 4/20\n",
      "1114/1114 [==============================] - 80s 72ms/step - loss: 0.2155 - accuracy: 0.9201 - val_loss: 0.1655 - val_accuracy: 0.9355\n",
      "Epoch 5/20\n",
      "1114/1114 [==============================] - 80s 72ms/step - loss: 0.1720 - accuracy: 0.9327 - val_loss: 0.1581 - val_accuracy: 0.9435\n",
      "Epoch 6/20\n",
      "1114/1114 [==============================] - 74s 66ms/step - loss: 0.1121 - accuracy: 0.9641 - val_loss: 0.1127 - val_accuracy: 0.9597\n",
      "Epoch 7/20\n",
      "1114/1114 [==============================] - 72s 64ms/step - loss: 0.0938 - accuracy: 0.9614 - val_loss: 0.0960 - val_accuracy: 0.9677\n",
      "Epoch 8/20\n",
      "1114/1114 [==============================] - 78s 70ms/step - loss: 0.0832 - accuracy: 0.9704 - val_loss: 0.1438 - val_accuracy: 0.9435\n",
      "Epoch 9/20\n",
      "1114/1114 [==============================] - 72s 65ms/step - loss: 0.0642 - accuracy: 0.9767 - val_loss: 0.0867 - val_accuracy: 0.9677\n",
      "Epoch 10/20\n",
      "1114/1114 [==============================] - 75s 67ms/step - loss: 0.0439 - accuracy: 0.9829 - val_loss: 0.0871 - val_accuracy: 0.9677\n",
      "Epoch 11/20\n",
      "1114/1114 [==============================] - 78s 70ms/step - loss: 0.0428 - accuracy: 0.9874 - val_loss: 0.0808 - val_accuracy: 0.9677\n",
      "Epoch 12/20\n",
      "1114/1114 [==============================] - 83s 75ms/step - loss: 0.0297 - accuracy: 0.9892 - val_loss: 0.1054 - val_accuracy: 0.9677\n",
      "Epoch 13/20\n",
      "1114/1114 [==============================] - 78s 70ms/step - loss: 0.0250 - accuracy: 0.9910 - val_loss: 0.1158 - val_accuracy: 0.9597\n",
      "Epoch 14/20\n",
      "1114/1114 [==============================] - 78s 70ms/step - loss: 0.0278 - accuracy: 0.9910 - val_loss: 0.2027 - val_accuracy: 0.9435\n",
      "Epoch 15/20\n",
      "1114/1114 [==============================] - 77s 69ms/step - loss: 0.0349 - accuracy: 0.9856 - val_loss: 0.0843 - val_accuracy: 0.9597\n",
      "Epoch 16/20\n",
      "1114/1114 [==============================] - 70s 63ms/step - loss: 0.0271 - accuracy: 0.9892 - val_loss: 0.0880 - val_accuracy: 0.9677\n",
      "Epoch 17/20\n",
      "1114/1114 [==============================] - 71s 64ms/step - loss: 0.0463 - accuracy: 0.9829 - val_loss: 0.1755 - val_accuracy: 0.9516\n",
      "Epoch 18/20\n",
      "1114/1114 [==============================] - 75s 67ms/step - loss: 0.0289 - accuracy: 0.9937 - val_loss: 0.1327 - val_accuracy: 0.9677\n",
      "Epoch 19/20\n",
      "1114/1114 [==============================] - 81s 73ms/step - loss: 0.0218 - accuracy: 0.9901 - val_loss: 0.1308 - val_accuracy: 0.9677\n",
      "Epoch 20/20\n",
      "1114/1114 [==============================] - 76s 68ms/step - loss: 0.0135 - accuracy: 0.9946 - val_loss: 0.1056 - val_accuracy: 0.9677\n"
     ]
    }
   ],
   "source": [
    "checkpoint = ModelCheckpoint('model-{epoch:03d}.model',monitor='val_loss',verbose=0,save_best_only=True,mode='auto')\n",
    "history=model.fit(X_train,Y_train,epochs=20,callbacks=[checkpoint],validation_split=0.1)"
   ]
  },
  {
   "cell_type": "code",
   "execution_count": 20,
   "metadata": {},
   "outputs": [
    {
     "data": {
      "image/png": "[encoded data removed]",
      "text/plain": [
       "<Figure size 432x288 with 1 Axes>"
      ]
     },
     "metadata": {
      "needs_background": "light"
     },
     "output_type": "display_data"
    }
   ],
   "source": [
    "from matplotlib import pyplot as plt\n",
    "\n",
    "plt.plot(history.history['loss'],'r',label='training loss')\n",
    "plt.plot(history.history['val_loss'],label='validation loss')\n",
    "plt.xlabel('# epochs')\n",
    "plt.ylabel('loss')\n",
    "plt.legend()\n",
    "plt.show()"
   ]
  },
  {
   "cell_type": "code",
   "execution_count": 21,
   "metadata": {},
   "outputs": [
    {
     "data": {
      "image/png": "[encoded data removed]",
      "text/plain": [
       "<Figure size 432x288 with 1 Axes>"
      ]
     },
     "metadata": {
      "needs_background": "light"
     },
     "output_type": "display_data"
    }
   ],
   "source": [
    "plt.plot(history.history['accuracy'],'r',label='training accuracy')\n",
    "plt.plot(history.history['val_accuracy'],label='validation accuracy')\n",
    "plt.xlabel('# epochs')\n",
    "plt.ylabel('loss')\n",
    "plt.legend()\n",
    "plt.show()"
   ]
  },
  {
   "cell_type": "code",
   "execution_count": 22,
   "metadata": {},
   "outputs": [
    {
     "name": "stdout",
     "output_type": "stream",
     "text": [
      "138/138 [==============================] - 2s 16ms/step\n",
      "[0.12383587949949762, 0.9637681245803833]\n"
     ]
    }
   ],
   "source": [
    "print(model.evaluate(x_test,y_test))\n"
   ]
  },
  {
   "cell_type": "code",
   "execution_count": 24,
   "metadata": {},
   "outputs": [],
   "source": [
    "model.save(\"my_model.model\")"
   ]
  },
  {
   "cell_type": "code",
   "execution_count": null,
   "metadata": {},
   "outputs": [],
   "source": []
  }
 ],
 "metadata": {
  "kernelspec": {
   "display_name": "jannett",
   "language": "python",
   "name": "jannett"
  },
  "language_info": {
   "codemirror_mode": {
    "name": "ipython",
    "version": 3
   },
   "file_extension": ".py",
   "mimetype": "text/x-python",
   "name": "python",
   "nbconvert_exporter": "python",
   "pygments_lexer": "ipython3",
   "version": "3.7.9"
  }
 },
 "nbformat": 4,
 "nbformat_minor": 4
}
